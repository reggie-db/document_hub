{
 "cells": [
  {
   "cell_type": "code",
   "execution_count": null,
   "id": "initial_id",
   "metadata": {
    "collapsed": true
   },
   "outputs": [],
   "source": [
    "import requests\n",
    "\n",
    "url = \"https://adb-984752964297111.11.azuredatabricks.net/api/2.0/knowledge-assistants\"\n",
    "headers = {\n",
    "    \"Content-Type\": \"application/json\",\n",
    "    \"Authorization\": \"Bearer XXX\",  # replace with your real token\n",
    "}\n",
    "\n",
    "payload = {\n",
    "    \"name\": \"test123\",\n",
    "    \"description\": \"Answers user questions about Databricks.\",\n",
    "    \"instructions\": \"You are a faithful agent who retrieves relevant text from Databricks docs and provides faithful answers to user questions.\",\n",
    "    \"knowledge_sources\": [\n",
    "        {\n",
    "            \"file_source\": {\n",
    "                \"name\": \"ygong_papers\",\n",
    "                \"type\": \"files\",\n",
    "                \"description\": \"Databricks Whitepapers.\",\n",
    "                \"files\": [\n",
    "                    {\n",
    "                        \"path\": \"/Volumes/reggie_pierce/document_hub_dev/files/\"\n",
    "                    }\n",
    "                ]\n",
    "            },\n",
    "            \"index_source\": {\n",
    "                \"name\": \"ygong_notes\",\n",
    "                \"type\": \"index\",\n",
    "                \"description\": \"PM notes\",\n",
    "                \"index\": {\n",
    "                    \"name\": \"reggie_pierce.document_hub_dev.file_index_search_index\",\n",
    "                    \"doc_uri_col\": \"path\",\n",
    "                    \"text_col\": \"text\"\n",
    "                }\n",
    "            }\n",
    "        }\n",
    "    ]\n",
    "}\n",
    "\n",
    "response = requests.post(url, headers=headers, json=payload)\n",
    "response.raise_for_status()\n",
    "\n",
    "\n",
    "print(response.status_code)\n",
    "print(response.text)"
   ]
  }
 ],
 "metadata": {
  "kernelspec": {
   "display_name": "Python 3",
   "language": "python",
   "name": "python3"
  },
  "language_info": {
   "codemirror_mode": {
    "name": "ipython",
    "version": 2
   },
   "file_extension": ".py",
   "mimetype": "text/x-python",
   "name": "python",
   "nbconvert_exporter": "python",
   "pygments_lexer": "ipython2",
   "version": "2.7.6"
  }
 },
 "nbformat": 4,
 "nbformat_minor": 5
}
