{
 "cells": [
  {
   "cell_type": "code",
   "execution_count": null,
   "id": "47ab89b56c6becfc",
   "metadata": {},
   "outputs": [],
   "source": [
    "from common import utils\n",
    "\n",
    "CATALOG_NAME = utils.config_value(\"catalog_name\")\n",
    "SCHEMA_NAME = utils.config_value(\"schema_name\")\n",
    "KNOWLEDGE_ASSISTANT_NAME = utils.snake_case(f\"{CATALOG_NAME}_{SCHEMA_NAME}_knowledge_assistant\")\n",
    "KNOWLEDGE_ASSISTANT_SYNC_INTERVAL_MS = int(utils.config_value(\"knowledge_assistant_sync_interval_ms\"))"
   ]
  },
  {
   "cell_type": "code",
   "id": "initial_id",
   "metadata": {
    "collapsed": true,
    "ExecuteTime": {
     "end_time": "2025-09-12T14:31:10.745967Z",
     "start_time": "2025-09-12T14:31:10.492414Z"
    }
   },
   "source": [
    "import json\n",
    "from datetime import datetime, timedelta, timezone\n",
    "from common import vector_search\n",
    "from common import knowledge_assistant\n",
    "\n",
    "\n",
    "def create_knowledge_assistant():\n",
    "    url = utils.api_url(\"/api/2.0/knowledge-assistants\")\n",
    "    payload = {\n",
    "        \"name\": KNOWLEDGE_ASSISTANT_NAME,\n",
    "        \"description\": utils.config_value(\"knowledge_assistant_description\"),\n",
    "        \"instructions\": utils.config_value(\"knowledge_assistant_instructions\", \"\"),\n",
    "        \"knowledge_sources\": [\n",
    "            {\n",
    "                \"files_source\": {\n",
    "                    \"name\": \"files\",\n",
    "                    \"type\": \"files\",\n",
    "                    \"description\": utils.config_value(\"file_source_description\"),\n",
    "                    \"files\": {\n",
    "                        \"path\": vector_search.VOLUME_PATH\n",
    "                    }\n",
    "                }\n",
    "            },\n",
    "            {\n",
    "                \"index_source\": {\n",
    "                    \"name\": \"vector_search_index\",\n",
    "                    \"type\": \"index\",\n",
    "                    \"description\": utils.config_value(\"vector_search_index_description\"),\n",
    "                    \"index\": {\n",
    "                        \"name\": vector_search.INDEX_NAME,\n",
    "                        \"doc_uri_col\": \"path\",\n",
    "                        \"text_col\": \"text\"\n",
    "                    }\n",
    "                }\n",
    "            }\n",
    "        ]\n",
    "    }\n",
    "    utils.logger().info(\"knowledge-assistant create request body:\\n%s\", json.dumps(payload))\n",
    "    utils.http_request(url, method=\"POST\", json=payload)\n",
    "\n",
    "\n",
    "ka = knowledge_assistant.get_by_name(KNOWLEDGE_ASSISTANT_NAME)\n",
    "if not ka:\n",
    "    create_knowledge_assistant()\n",
    "else:\n",
    "    knowledge_sources = ka.get(\"knowledge_assistant\", {}).get(\"knowledge_sources\", []) or []\n",
    "    latest_last_successful_update_timestamp_ms = None\n",
    "    for knowledge_source in knowledge_sources:\n",
    "        file_source = knowledge_source.get(\"files_source\", {})\n",
    "        if not file_source:\n",
    "            continue\n",
    "        state = knowledge_source.get(\"state\", \"\")\n",
    "        if \"KNOWLEDGE_SOURCE_STATE_UPDATED\" == state:\n",
    "            timestamp = knowledge_source[\"last_successful_update_timestamp_ms\"]\n",
    "            if timestamp:\n",
    "                if (latest_last_successful_update_timestamp_ms is None) or (\n",
    "                        timestamp > latest_last_successful_update_timestamp_ms):\n",
    "                    latest_last_successful_update_timestamp_ms = timestamp\n",
    "                continue\n",
    "        latest_last_successful_update_timestamp_ms = None\n",
    "        break\n",
    "    if latest_last_successful_update_timestamp_ms is not None:\n",
    "        last_update = datetime.fromtimestamp(latest_last_successful_update_timestamp_ms / 1000, tz=timezone.utc)\n",
    "    cutoff = datetime.now(timezone.utc) - timedelta(milliseconds=KNOWLEDGE_ASSISTANT_SYNC_INTERVAL_MS)\n",
    "    if last_update >= cutoff:\n",
    "        utils.logger().info(\"Skipping knowledge assistant sync - last_update:%s\", last_update.isoformat())\n",
    "    else:\n",
    "        utils.logger().info(\"Syncing knowledge assistant - last_update:%s\", last_update.isoformat())\n",
    "        tile_id = ka.get(\"tile\").get(\"tile_id\")\n",
    "        knowledge_assistant.sync(ka.get(\"tile\").get(\"tile_id\"))\n"
   ],
   "outputs": [
    {
     "name": "stderr",
     "output_type": "stream",
     "text": [
      "/Users/reggie.pierce/Library/Python/3.9/lib/python/site-packages/urllib3/__init__.py:35: NotOpenSSLWarning: urllib3 v2 only supports OpenSSL 1.1.1+, currently the 'ssl' module is compiled with 'LibreSSL 2.8.3'. See: https://github.com/urllib3/urllib3/issues/3020\n",
      "  warnings.warn(\n"
     ]
    },
    {
     "ename": "ModuleNotFoundError",
     "evalue": "No module named 'pyspark.dbutils'",
     "output_type": "error",
     "traceback": [
      "\u001B[0;31m---------------------------------------------------------------------------\u001B[0m",
      "\u001B[0;31mModuleNotFoundError\u001B[0m                       Traceback (most recent call last)",
      "Cell \u001B[0;32mIn[1], line 3\u001B[0m\n\u001B[1;32m      1\u001B[0m \u001B[38;5;28;01mimport\u001B[39;00m\u001B[38;5;250m \u001B[39m\u001B[38;5;21;01mjson\u001B[39;00m\n\u001B[1;32m      2\u001B[0m \u001B[38;5;28;01mfrom\u001B[39;00m\u001B[38;5;250m \u001B[39m\u001B[38;5;21;01mdatetime\u001B[39;00m\u001B[38;5;250m \u001B[39m\u001B[38;5;28;01mimport\u001B[39;00m datetime, timedelta, timezone\n\u001B[0;32m----> 3\u001B[0m \u001B[38;5;28;01mfrom\u001B[39;00m\u001B[38;5;250m \u001B[39m\u001B[38;5;21;01mcommon\u001B[39;00m\u001B[38;5;250m \u001B[39m\u001B[38;5;28;01mimport\u001B[39;00m vector_search\n\u001B[1;32m      4\u001B[0m \u001B[38;5;28;01mfrom\u001B[39;00m\u001B[38;5;250m \u001B[39m\u001B[38;5;21;01mcommon\u001B[39;00m\u001B[38;5;250m \u001B[39m\u001B[38;5;28;01mimport\u001B[39;00m knowledge_assistant\n\u001B[1;32m      7\u001B[0m \u001B[38;5;28;01mdef\u001B[39;00m\u001B[38;5;250m \u001B[39m\u001B[38;5;21mcreate_knowledge_assistant\u001B[39m():\n",
      "File \u001B[0;32m~/Projects/document_hub/src/common/vector_search.py:1\u001B[0m\n\u001B[0;32m----> 1\u001B[0m \u001B[38;5;28;01mfrom\u001B[39;00m\u001B[38;5;250m \u001B[39m\u001B[38;5;21;01mcommon\u001B[39;00m\u001B[38;5;250m \u001B[39m\u001B[38;5;28;01mimport\u001B[39;00m utils\n\u001B[1;32m      3\u001B[0m CATALOG_NAME \u001B[38;5;241m=\u001B[39m utils\u001B[38;5;241m.\u001B[39mconfig_value(\u001B[38;5;124m\"\u001B[39m\u001B[38;5;124mcatalog_name\u001B[39m\u001B[38;5;124m\"\u001B[39m)\n\u001B[1;32m      4\u001B[0m SCHEMA_NAME \u001B[38;5;241m=\u001B[39m utils\u001B[38;5;241m.\u001B[39mconfig_value(\u001B[38;5;124m\"\u001B[39m\u001B[38;5;124mschema_name\u001B[39m\u001B[38;5;124m\"\u001B[39m)\n",
      "File \u001B[0;32m~/Projects/document_hub/src/common/utils.py:16\u001B[0m\n\u001B[1;32m     13\u001B[0m \u001B[38;5;28;01mfrom\u001B[39;00m\u001B[38;5;250m \u001B[39m\u001B[38;5;21;01murllib\u001B[39;00m\u001B[38;5;21;01m.\u001B[39;00m\u001B[38;5;21;01mparse\u001B[39;00m\u001B[38;5;250m \u001B[39m\u001B[38;5;28;01mimport\u001B[39;00m urljoin\n\u001B[1;32m     15\u001B[0m \u001B[38;5;28;01mimport\u001B[39;00m\u001B[38;5;250m \u001B[39m\u001B[38;5;21;01mrequests\u001B[39;00m\n\u001B[0;32m---> 16\u001B[0m \u001B[38;5;28;01mfrom\u001B[39;00m\u001B[38;5;250m \u001B[39m\u001B[38;5;21;01mpyspark\u001B[39;00m\u001B[38;5;21;01m.\u001B[39;00m\u001B[38;5;21;01mdbutils\u001B[39;00m\u001B[38;5;250m \u001B[39m\u001B[38;5;28;01mimport\u001B[39;00m DBUtils\n\u001B[1;32m     17\u001B[0m \u001B[38;5;28;01mfrom\u001B[39;00m\u001B[38;5;250m \u001B[39m\u001B[38;5;21;01mpyspark\u001B[39;00m\u001B[38;5;21;01m.\u001B[39;00m\u001B[38;5;21;01msql\u001B[39;00m\u001B[38;5;250m \u001B[39m\u001B[38;5;28;01mimport\u001B[39;00m SparkSession\n\u001B[1;32m     18\u001B[0m \u001B[38;5;28;01mfrom\u001B[39;00m\u001B[38;5;250m \u001B[39m\u001B[38;5;21;01mpyspark\u001B[39;00m\u001B[38;5;21;01m.\u001B[39;00m\u001B[38;5;21;01msql\u001B[39;00m\u001B[38;5;250m \u001B[39m\u001B[38;5;28;01mimport\u001B[39;00m functions \u001B[38;5;28;01mas\u001B[39;00m F, types \u001B[38;5;28;01mas\u001B[39;00m T\n",
      "\u001B[0;31mModuleNotFoundError\u001B[0m: No module named 'pyspark.dbutils'"
     ]
    }
   ],
   "execution_count": 1
  }
 ],
 "metadata": {
  "kernelspec": {
   "display_name": "Python 3",
   "language": "python",
   "name": "python3"
  },
  "language_info": {
   "codemirror_mode": {
    "name": "ipython",
    "version": 2
   },
   "file_extension": ".py",
   "mimetype": "text/x-python",
   "name": "python",
   "nbconvert_exporter": "python",
   "pygments_lexer": "ipython2",
   "version": "2.7.6"
  }
 },
 "nbformat": 4,
 "nbformat_minor": 5
}
