{
 "cells": [
  {
   "cell_type": "code",
   "execution_count": null,
   "id": "47ab89b56c6becfc",
   "metadata": {},
   "outputs": [],
   "source": [
    "from common import utils\n",
    "\n",
    "DBX_CTX = dbutils.notebook.entry_point.getDbutils().notebook().getContext()\n",
    "API_URL = DBX_CTX.apiUrl().getOrElse(None)\n",
    "API_TOKEN = DBX_CTX.apiToken().getOrElse(None)\n",
    "\n",
    "CATALOG_NAME = utils.config_value(\"catalog_name\")\n",
    "SCHEMA_NAME = utils.config_value(\"schema_name\")\n",
    "KNOWLEDGE_ASSISTANT_NAME = utils.snake_case(f\"{CATALOG_NAME}_{SCHEMA_NAME}_knowledge_assistant\")"
   ]
  },
  {
   "cell_type": "code",
   "execution_count": null,
   "id": "initial_id",
   "metadata": {
    "collapsed": true
   },
   "outputs": [],
   "source": [
    "import json\n",
    "import requests\n",
    "from common import vector_search_config\n",
    "\n",
    "url = f\"{API_URL}/api/2.0/knowledge-assistants\"\n",
    "headers = {\n",
    "    \"Content-Type\": \"application/json\",\n",
    "    \"Authorization\": f\"Bearer {API_TOKEN}\",\n",
    "}\n",
    "\n",
    "payload = {\n",
    "    \"name\": KNOWLEDGE_ASSISTANT_NAME,\n",
    "    \"description\": utils.config_value(\"knowledge_assistant_description\"),\n",
    "    \"instructions\": utils.config_value(\"knowledge_assistant_instructions\", \"\"),\n",
    "    \"knowledge_sources\": [\n",
    "        {\n",
    "            \"files_source\": {\n",
    "                \"name\": \"files\",\n",
    "                \"type\": \"files\",\n",
    "                \"description\": utils.config_value(\"file_source_description\"),\n",
    "                \"files\": {\n",
    "                    \"path\": vector_search_config.VOLUME_PATH\n",
    "                }\n",
    "            }\n",
    "        },\n",
    "        {\n",
    "            \"index_source\": {\n",
    "                \"name\": \"vector_search_index\",\n",
    "                \"type\": \"index\",\n",
    "                \"description\": utils.config_value(\"vector_search_index_description\"),\n",
    "                \"index\": {\n",
    "                    \"name\": vector_search_config.INDEX_NAME,\n",
    "                    \"doc_uri_col\": \"path\",\n",
    "                    \"text_col\": \"text\"\n",
    "                }\n",
    "            }\n",
    "        }\n",
    "    ]\n",
    "}\n",
    "\n",
    "print(json.dumps(payload, indent=2))\n",
    "\n",
    "response = requests.post(url, headers=headers, json=payload)\n",
    "print(response.text)\n",
    "response.raise_for_status()\n",
    "\n",
    "print(response.status_code)\n",
    "\n"
   ]
  }
 ],
 "metadata": {
  "kernelspec": {
   "display_name": "Python 3",
   "language": "python",
   "name": "python3"
  },
  "language_info": {
   "codemirror_mode": {
    "name": "ipython",
    "version": 2
   },
   "file_extension": ".py",
   "mimetype": "text/x-python",
   "name": "python",
   "nbconvert_exporter": "python",
   "pygments_lexer": "ipython2",
   "version": "2.7.6"
  }
 },
 "nbformat": 4,
 "nbformat_minor": 5
}
