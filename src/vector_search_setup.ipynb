{
 "cells": [
  {
   "cell_type": "code",
   "execution_count": null,
   "id": "initial_id",
   "metadata": {
    "collapsed": true
   },
   "outputs": [],
   "source": "%pip install databricks-vectorsearch"
  },
  {
   "metadata": {},
   "cell_type": "code",
   "outputs": [],
   "execution_count": null,
   "source": [
    "import time\n",
    "\n",
    "from databricks.vector_search.client import VectorSearchClient\n",
    "\n",
    "from common import utils\n",
    "from common import vector_search_config\n",
    "\n",
    "client = VectorSearchClient()\n",
    "poll_secs = 5\n",
    "\n",
    "\n",
    "def _get_vector_search_endpoint(name: str):\n",
    "    try:\n",
    "        return client.get_endpoint(name=name)\n",
    "    except Exception:\n",
    "        return None\n",
    "\n",
    "\n",
    "while True:\n",
    "    ep = _get_vector_search_endpoint(vector_search_config.ENDPOINT_NAME)\n",
    "    if ep:\n",
    "        state = ep[\"endpoint_status\"][\"state\"]\n",
    "        utils.logger().info(\"%s state: %s\", vector_search_config.ENDPOINT_NAME, state)\n",
    "        if state == \"ONLINE\":\n",
    "            break\n",
    "        if state == \"PROVISIONING\":\n",
    "            time.sleep(poll_secs)\n",
    "            continue\n",
    "        raise ValueError(f\"unknown state: {state}\")\n",
    "\n",
    "    utils.logger().info(\"creating vector search endpoint: %s\", vector_search_config.ENDPOINT_NAME)\n",
    "    client.create_endpoint_and_wait(vector_search_config.ENDPOINT_NAME, endpoint_type=\"STANDARD\")\n",
    "    break"
   ],
   "id": "e26d8380d1a41cc"
  }
 ],
 "metadata": {
  "kernelspec": {
   "display_name": "Python 3",
   "language": "python",
   "name": "python3"
  },
  "language_info": {
   "codemirror_mode": {
    "name": "ipython",
    "version": 2
   },
   "file_extension": ".py",
   "mimetype": "text/x-python",
   "name": "python",
   "nbconvert_exporter": "python",
   "pygments_lexer": "ipython2",
   "version": "2.7.6"
  }
 },
 "nbformat": 4,
 "nbformat_minor": 5
}
