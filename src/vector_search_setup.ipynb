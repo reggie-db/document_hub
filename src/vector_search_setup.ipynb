{
 "cells": [
  {
   "cell_type": "code",
   "execution_count": null,
   "id": "initial_id",
   "metadata": {
    "collapsed": true
   },
   "outputs": [],
   "source": "%pip install databricks-vectorsearch"
  },
  {
   "metadata": {
    "ExecuteTime": {
     "end_time": "2025-09-12T16:47:29.843275Z",
     "start_time": "2025-09-12T16:47:29.740697Z"
    }
   },
   "cell_type": "code",
   "source": [
    "import time\n",
    "\n",
    "from databricks.vector_search.client import VectorSearchClient\n",
    "\n",
    "from common import utils\n",
    "from common import vector_search_config\n",
    "\n",
    "client = VectorSearchClient()\n",
    "poll_secs = 5\n",
    "\n",
    "\n",
    "def _get_vector_search_endpoint(name: str):\n",
    "    try:\n",
    "        return client.get_endpoint(name=name)\n",
    "    except Exception:\n",
    "        return None\n",
    "\n",
    "\n",
    "while True:\n",
    "    ep = _get_vector_search_endpoint(vector_search_config.ENDPOINT_NAME)\n",
    "    if ep:\n",
    "        state = ep[\"endpoint_status\"][\"state\"]\n",
    "        utils.logger().info(\"%s state: %s\", vector_search_config.ENDPOINT_NAME, state)\n",
    "        if state == \"ONLINE\":\n",
    "            break\n",
    "        if state == \"PROVISIONING\":\n",
    "            time.sleep(poll_secs)\n",
    "            continue\n",
    "        raise ValueError(f\"unknown state: {state}\")\n",
    "\n",
    "    utils.logger().info(\"creating vector search endpoint: %s\", vector_search_config.ENDPOINT_NAME)\n",
    "    client.create_endpoint_and_wait(vector_search_config.ENDPOINT_NAME, endpoint_type=\"STANDARD\")\n",
    "    break"
   ],
   "id": "e26d8380d1a41cc",
   "outputs": [
    {
     "ename": "ModuleNotFoundError",
     "evalue": "No module named 'databricks'",
     "output_type": "error",
     "traceback": [
      "\u001B[0;31m---------------------------------------------------------------------------\u001B[0m",
      "\u001B[0;31mModuleNotFoundError\u001B[0m                       Traceback (most recent call last)",
      "Cell \u001B[0;32mIn[1], line 3\u001B[0m\n\u001B[1;32m      1\u001B[0m \u001B[38;5;28;01mimport\u001B[39;00m\u001B[38;5;250m \u001B[39m\u001B[38;5;21;01mtime\u001B[39;00m\n\u001B[0;32m----> 3\u001B[0m \u001B[38;5;28;01mfrom\u001B[39;00m\u001B[38;5;250m \u001B[39m\u001B[38;5;21;01mdatabricks\u001B[39;00m\u001B[38;5;21;01m.\u001B[39;00m\u001B[38;5;21;01mvector_search\u001B[39;00m\u001B[38;5;21;01m.\u001B[39;00m\u001B[38;5;21;01mclient\u001B[39;00m\u001B[38;5;250m \u001B[39m\u001B[38;5;28;01mimport\u001B[39;00m VectorSearchClient\n\u001B[1;32m      5\u001B[0m \u001B[38;5;28;01mfrom\u001B[39;00m\u001B[38;5;250m \u001B[39m\u001B[38;5;21;01mcommon\u001B[39;00m\u001B[38;5;250m \u001B[39m\u001B[38;5;28;01mimport\u001B[39;00m utils\n\u001B[1;32m      6\u001B[0m \u001B[38;5;28;01mfrom\u001B[39;00m\u001B[38;5;250m \u001B[39m\u001B[38;5;21;01mcommon\u001B[39;00m\u001B[38;5;250m \u001B[39m\u001B[38;5;28;01mimport\u001B[39;00m vector_search_config\n",
      "\u001B[0;31mModuleNotFoundError\u001B[0m: No module named 'databricks'"
     ]
    }
   ],
   "execution_count": 1
  }
 ],
 "metadata": {
  "kernelspec": {
   "display_name": "Python 3",
   "language": "python",
   "name": "python3"
  },
  "language_info": {
   "codemirror_mode": {
    "name": "ipython",
    "version": 2
   },
   "file_extension": ".py",
   "mimetype": "text/x-python",
   "name": "python",
   "nbconvert_exporter": "python",
   "pygments_lexer": "ipython2",
   "version": "2.7.6"
  }
 },
 "nbformat": 4,
 "nbformat_minor": 5
}
