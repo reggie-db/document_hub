{
 "cells": [
  {
   "cell_type": "code",
   "execution_count": null,
   "id": "initial_id",
   "metadata": {
    "collapsed": true
   },
   "outputs": [],
   "source": "%pip install databricks-vectorsearch"
  },
  {
   "metadata": {},
   "cell_type": "code",
   "outputs": [],
   "execution_count": null,
   "source": [
    "from common import utils\n",
    "from common import vector_search\n",
    "\n",
    "from databricks.vector_search.client import VectorSearchClient\n",
    "\n",
    "client = VectorSearchClient()\n",
    "index = None\n",
    "try:\n",
    "    index = client.get_index(vector_search.ENDPOINT_NAME, vector_search.INDEX_NAME)\n",
    "    utils.logger().info(\"vector search delta sync index exists: %s\", vector_search.INDEX_NAME)\n",
    "except Exception:\n",
    "    utils.logger().info(\n",
    "        \"creating vector search delta sync index: %s\", vector_search.INDEX_NAME\n",
    "    )\n",
    "    client.create_delta_sync_index_and_wait(\n",
    "        #endpoint_name=ENDPOINT_NAME,\n",
    "        index_name=vector_search.INDEX_NAME,\n",
    "        source_table_name=vector_search.SOURCE_TABLE_NAME,\n",
    "        pipeline_type=\"TRIGGERED\",\n",
    "        primary_key=\"search_id\",\n",
    "        embedding_source_column=\"text\",\n",
    "        embedding_model_endpoint_name=\"databricks-gte-large-en\",\n",
    "        columns_to_sync=[\"id\", \"text\", \"path\", \"content_hash\"],\n",
    "    )\n",
    "if index:\n",
    "    # TODO: Add conditional sync logic\n",
    "    utils.logger().info(\"syncing vector search delta sync index:%s\", index.describe())\n",
    "    index.sync()"
   ],
   "id": "e26d8380d1a41cc"
  }
 ],
 "metadata": {
  "kernelspec": {
   "display_name": "Python 3",
   "language": "python",
   "name": "python3"
  },
  "language_info": {
   "codemirror_mode": {
    "name": "ipython",
    "version": 2
   },
   "file_extension": ".py",
   "mimetype": "text/x-python",
   "name": "python",
   "nbconvert_exporter": "python",
   "pygments_lexer": "ipython2",
   "version": "2.7.6"
  }
 },
 "nbformat": 4,
 "nbformat_minor": 5
}
